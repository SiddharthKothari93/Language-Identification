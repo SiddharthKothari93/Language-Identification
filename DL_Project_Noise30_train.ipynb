{
  "nbformat": 4,
  "nbformat_minor": 0,
  "metadata": {
    "colab": {
      "name": "DL_Project_Noise30_train.ipynb",
      "version": "0.3.2",
      "provenance": [],
      "collapsed_sections": []
    },
    "kernelspec": {
      "name": "python3",
      "display_name": "Python 3"
    },
    "accelerator": "GPU"
  },
  "cells": [
    {
      "cell_type": "code",
      "metadata": {
        "id": "ux5dR2eHbcCI",
        "colab_type": "code",
        "outputId": "46d2f2de-d008-4b56-d08c-2d2d353974d4",
        "colab": {
          "base_uri": "https://localhost:8080/",
          "height": 34
        }
      },
      "source": [
        "import numpy as np\n",
        "import tensorflow  as tf\n",
        "from tensorflow.contrib.layers import fully_connected\n",
        "import matplotlib.pyplot as plt\n",
        "from matplotlib import cm\n",
        "import pandas as pd\n",
        "import librosa\n",
        "from google.colab import files\n",
        "from google.colab import drive\n",
        "import glob\n",
        "import pickle\n",
        "from statistics import mean\n",
        "import keras\n",
        "from keras.layers.core import Dense, Permute, Reshape\n",
        "from keras.layers.convolutional import Convolution2D\n",
        "from keras.layers.normalization import BatchNormalization\n",
        "from keras.layers.pooling import MaxPooling2D\n",
        "from keras.layers.wrappers import Bidirectional\n",
        "from keras.layers.recurrent import LSTM\n",
        "from keras.models import Sequential\n",
        "from keras.regularizers import l2\n",
        "from sklearn.metrics import confusion_matrix\n",
        "from sklearn.metrics import accuracy_score\n",
        "from keras.models import load_model\n",
        "from keras.utils import to_categorical\n",
        "from keras.layers.core import Dense, Permute, Reshape, Flatten \n",
        "from keras.layers.convolutional import Convolution2D\n",
        "from keras.layers.normalization import BatchNormalization\n",
        "from keras.layers.pooling import MaxPooling2D\n",
        "from keras.layers.wrappers import Bidirectional\n",
        "from keras.layers.recurrent import LSTM\n",
        "from keras.layers import Dropout, TimeDistributed\n",
        "from keras import layers\n",
        "from keras.models import Sequential\n",
        "from keras.regularizers import l2\n",
        "from keras.utils import to_categorical\n",
        "\n",
        "np.random.seed(42)"
      ],
      "execution_count": 1,
      "outputs": [
        {
          "output_type": "stream",
          "text": [
            "Using TensorFlow backend.\n"
          ],
          "name": "stderr"
        }
      ]
    },
    {
      "cell_type": "code",
      "metadata": {
        "id": "wFbV0cO0bl1V",
        "colab_type": "code",
        "outputId": "08908b1d-7cc0-4356-fa7d-8d4e55b6165d",
        "colab": {
          "base_uri": "https://localhost:8080/",
          "height": 34
        }
      },
      "source": [
        "drive.mount('/content/Drive/',force_remount =  True)"
      ],
      "execution_count": 2,
      "outputs": [
        {
          "output_type": "stream",
          "text": [
            "Mounted at /content/Drive/\n"
          ],
          "name": "stdout"
        }
      ]
    },
    {
      "cell_type": "code",
      "metadata": {
        "id": "FDMCPAx4bsTE",
        "colab_type": "code",
        "colab": {}
      },
      "source": [
        "dirpath = \"/content/Drive/My Drive/DL project/New Files/Final Data/\""
      ],
      "execution_count": 0,
      "outputs": []
    },
    {
      "cell_type": "code",
      "metadata": {
        "id": "lMj-dbnIb_m0",
        "colab_type": "code",
        "colab": {}
      },
      "source": [
        "with open(dirpath + 'ca2500_noise_30_mfcc.pkl', 'rb') as f:\n",
        "  ca_noise_30= pickle.load(f)\n",
        "  \n",
        "with open(dirpath + 'de2500_noise_30_mfcc.pkl', 'rb') as f:\n",
        "  de_noise_30 = pickle.load(f)\n",
        " \n",
        "with open(dirpath + 'it2500_noise_30_mfcc.pkl', 'rb') as f:\n",
        "  it_noise_30= pickle.load(f)\n",
        "  \n",
        "with open(dirpath + 'en2500_noise_30_mfcc.pkl', 'rb') as f:\n",
        "  en_noise_30 = pickle.load(f)\n",
        " \n",
        "with open(dirpath + 'fr2500_noise_30_mfcc.pkl', 'rb') as f:\n",
        "  fr_noise_30 = pickle.load(f)\n",
        " \n"
      ],
      "execution_count": 0,
      "outputs": []
    },
    {
      "cell_type": "code",
      "metadata": {
        "id": "CxHG9-wHcmfC",
        "colab_type": "code",
        "colab": {}
      },
      "source": [
        "data_30 = np.concatenate((ca_noise_30, de_noise_30, it_noise_30, en_noise_30, fr_noise_30), axis = 0)"
      ],
      "execution_count": 0,
      "outputs": []
    },
    {
      "cell_type": "code",
      "metadata": {
        "id": "WTewX5BTcsHY",
        "colab_type": "code",
        "colab": {}
      },
      "source": [
        "del(ca_noise_30)\n",
        "del(de_noise_30)\n",
        "del(it_noise_30)\n",
        "del(en_noise_30)\n",
        "del(fr_noise_30)"
      ],
      "execution_count": 0,
      "outputs": []
    },
    {
      "cell_type": "code",
      "metadata": {
        "id": "BYe44TBTczm3",
        "colab_type": "code",
        "colab": {}
      },
      "source": [
        "np.random.shuffle(data_30)"
      ],
      "execution_count": 0,
      "outputs": []
    },
    {
      "cell_type": "code",
      "metadata": {
        "id": "_5krqYAZhOc-",
        "colab_type": "code",
        "outputId": "264139f7-977f-43b5-d38e-50987f0bd330",
        "colab": {
          "base_uri": "https://localhost:8080/",
          "height": 50
        }
      },
      "source": [
        "\n",
        "labels_30 =[]\n",
        "for i in range(len(data_30)):\n",
        "\n",
        "      labels_30.append(data_30[i][1])  \n",
        "\n",
        "labels_30 = np.array(labels_30)\n",
        "labels_30\n",
        "\n",
        "classnames, indices = np.unique(labels_30, return_inverse=True)\n",
        "print(indices)\n",
        "print(classnames)\n",
        "\n",
        "\n",
        "final_labels_30 = indices\n",
        "final_lables30_cat = to_categorical(final_labels_30)"
      ],
      "execution_count": 8,
      "outputs": [
        {
          "output_type": "stream",
          "text": [
            "[0 2 1 ... 4 0 4]\n",
            "['Catalan' 'English' 'French' 'German' 'Italian']\n"
          ],
          "name": "stdout"
        }
      ]
    },
    {
      "cell_type": "code",
      "metadata": {
        "id": "62U6KWn3dS_5",
        "colab_type": "code",
        "outputId": "5a47d902-4c51-4338-91a0-9afa02d821cc",
        "colab": {
          "base_uri": "https://localhost:8080/",
          "height": 34
        }
      },
      "source": [
        "final_X_30 =[]\n",
        "for i in range(len(data_30)):\n",
        "\n",
        "      final_X_30.append(data_30[i][0])  \n",
        "\n",
        "final_X_30 = np.array(final_X_30)\n",
        "final_X_30[0].shape"
      ],
      "execution_count": 9,
      "outputs": [
        {
          "output_type": "execute_result",
          "data": {
            "text/plain": [
              "(972, 40)"
            ]
          },
          "metadata": {
            "tags": []
          },
          "execution_count": 9
        }
      ]
    },
    {
      "cell_type": "code",
      "metadata": {
        "id": "kBvPb6rDfZ_D",
        "colab_type": "code",
        "colab": {}
      },
      "source": [
        "del(data_30)"
      ],
      "execution_count": 0,
      "outputs": []
    },
    {
      "cell_type": "code",
      "metadata": {
        "id": "s2g5oMzjflYo",
        "colab_type": "code",
        "colab": {}
      },
      "source": [
        "train_x = np.array(final_X_30[:8000])\n",
        "cv_x = np.array(final_X_30[8000:10000])\n",
        "test_x = np.array(final_X_30[10000:])\n",
        "train_y = np.array(final_lables30_cat[:8000])\n",
        "cv_y = np.array(final_lables30_cat[8000:10000])\n",
        "test_y = np.array(final_lables30_cat[10000:])"
      ],
      "execution_count": 0,
      "outputs": []
    },
    {
      "cell_type": "code",
      "metadata": {
        "id": "OEb3rX0psnMo",
        "colab_type": "code",
        "colab": {}
      },
      "source": [
        "# final_data_tr"
      ],
      "execution_count": 0,
      "outputs": []
    },
    {
      "cell_type": "code",
      "metadata": {
        "id": "oYoOypuT8ZCU",
        "colab_type": "code",
        "outputId": "27ff55b9-e8de-42bc-a0f4-2e416112d35a",
        "colab": {
          "base_uri": "https://localhost:8080/",
          "height": 67
        }
      },
      "source": [
        "model = Sequential()\n",
        "weight_decay = 0.001\n",
        "\n",
        "model.add(Convolution2D(32, kernel_size=(4,4), strides=(1,1), activation=\"relu\", padding=\"same\", kernel_regularizer=l2(weight_decay), input_shape=(972,40,1)))\n",
        "model.add(BatchNormalization())\n",
        "\n",
        "model.add(MaxPooling2D(pool_size=(2,2), strides=(2,2), padding=\"same\"))\n",
        "\n",
        "\n",
        "model.add(Convolution2D(64, kernel_size=(4,4), strides=(1,1), activation=\"relu\", kernel_regularizer=l2(weight_decay), padding=\"same\"))\n",
        "model.add(BatchNormalization())\n",
        "\n",
        "model.add(MaxPooling2D(pool_size=(2,2), strides=(2,2), padding=\"same\"))\n",
        "\n",
        "\n",
        "\n",
        "model.add(Convolution2D(128, kernel_size=(4,4), strides=(1,1), activation=\"relu\", kernel_regularizer=l2(weight_decay), padding=\"same\"))\n",
        "model.add(BatchNormalization())\n",
        "\n",
        "model.add(MaxPooling2D(pool_size=(2,2), strides=(2,2), padding=\"same\"))\n",
        "\n",
        "\n",
        "model.add(Convolution2D(256, kernel_size=(4,4), strides=(1,1), activation=\"relu\", kernel_regularizer=l2(weight_decay), padding=\"same\"))\n",
        "model.add(BatchNormalization())\n",
        "\n",
        "model.add(MaxPooling2D(pool_size=(2,2), strides=(2,2), padding=\"same\"))\n",
        "\n",
        "#model.add(Convolution2D(512, kernel_size=(4,4), strides=(1,1), activation=\"relu\", kernel_regularizer=l2(weight_decay), padding=\"same\"))\n",
        "#model.add(BatchNormalization())\n",
        "\n",
        "#model.add(MaxPooling2D(pool_size=(2,2), strides=(2,2), padding=\"same\"))\n",
        "\n",
        "\n",
        "#model.add(Convolution2D(512, kernel_size=(4,4), strides=(1,1), activation=\"relu\", kernel_regularizer=l2(weight_decay), padding=\"same\"))\n",
        "#model.add(BatchNormalization())\n",
        "\n",
        "#model.add(MaxPooling2D(pool_size=(2,2), strides=(2,2), padding=\"same\"))\n",
        "\n",
        "print(model.layers[-1].output_shape)\n",
        "\n",
        "#model.add(Permute((2,1,3)))\n",
        "\n",
        "print(model.layers[-1].output_shape)\n",
        "\n",
        "bs, x, y, c = model.layers[-1].output_shape\n",
        "\n",
        "model.add(Reshape([x,y*c]))\n",
        "\n",
        "print(model.layers[-1].output_shape)\n",
        "\n",
        "#model.add(LSTM(256, activation=\"tanh\", return_sequences=True))\n",
        "\n",
        "model.add(LSTM(512, activation=\"tanh\", return_sequences=True))\n",
        "\n",
        "model.add(Flatten())\n",
        "\n",
        "# model.add(Dense(256, activation=\"relu\"))\n",
        "\n",
        "# model.add(Dropout(rate=0.7))\n",
        "\n",
        "model.add(Dense(5, activation=\"softmax\"))"
      ],
      "execution_count": 19,
      "outputs": [
        {
          "output_type": "stream",
          "text": [
            "(None, 61, 3, 256)\n",
            "(None, 61, 3, 256)\n",
            "(None, 61, 768)\n"
          ],
          "name": "stdout"
        }
      ]
    },
    {
      "cell_type": "code",
      "metadata": {
        "id": "gr5bUTx5vk3-",
        "colab_type": "code",
        "outputId": "d8165989-7a10-48bd-87df-d2ce8ccea2a5",
        "colab": {
          "base_uri": "https://localhost:8080/",
          "height": 672
        }
      },
      "source": [
        "model.summary()"
      ],
      "execution_count": 20,
      "outputs": [
        {
          "output_type": "stream",
          "text": [
            "_________________________________________________________________\n",
            "Layer (type)                 Output Shape              Param #   \n",
            "=================================================================\n",
            "conv2d_7 (Conv2D)            (None, 972, 40, 32)       544       \n",
            "_________________________________________________________________\n",
            "batch_normalization_7 (Batch (None, 972, 40, 32)       128       \n",
            "_________________________________________________________________\n",
            "max_pooling2d_7 (MaxPooling2 (None, 486, 20, 32)       0         \n",
            "_________________________________________________________________\n",
            "conv2d_8 (Conv2D)            (None, 486, 20, 64)       32832     \n",
            "_________________________________________________________________\n",
            "batch_normalization_8 (Batch (None, 486, 20, 64)       256       \n",
            "_________________________________________________________________\n",
            "max_pooling2d_8 (MaxPooling2 (None, 243, 10, 64)       0         \n",
            "_________________________________________________________________\n",
            "conv2d_9 (Conv2D)            (None, 243, 10, 128)      131200    \n",
            "_________________________________________________________________\n",
            "batch_normalization_9 (Batch (None, 243, 10, 128)      512       \n",
            "_________________________________________________________________\n",
            "max_pooling2d_9 (MaxPooling2 (None, 122, 5, 128)       0         \n",
            "_________________________________________________________________\n",
            "conv2d_10 (Conv2D)           (None, 122, 5, 256)       524544    \n",
            "_________________________________________________________________\n",
            "batch_normalization_10 (Batc (None, 122, 5, 256)       1024      \n",
            "_________________________________________________________________\n",
            "max_pooling2d_10 (MaxPooling (None, 61, 3, 256)        0         \n",
            "_________________________________________________________________\n",
            "reshape_3 (Reshape)          (None, 61, 768)           0         \n",
            "_________________________________________________________________\n",
            "lstm_3 (LSTM)                (None, 61, 512)           2623488   \n",
            "_________________________________________________________________\n",
            "flatten_2 (Flatten)          (None, 31232)             0         \n",
            "_________________________________________________________________\n",
            "dense_3 (Dense)              (None, 5)                 156165    \n",
            "=================================================================\n",
            "Total params: 3,470,693\n",
            "Trainable params: 3,469,733\n",
            "Non-trainable params: 960\n",
            "_________________________________________________________________\n"
          ],
          "name": "stdout"
        }
      ]
    },
    {
      "cell_type": "code",
      "metadata": {
        "id": "V6IcH27SAixd",
        "colab_type": "code",
        "colab": {}
      },
      "source": [
        "model.compile(loss=keras.losses.categorical_crossentropy,\n",
        "             optimizer=keras.optimizers.adam(lr=0.00005),\n",
        "             metrics=[\"accuracy\"])"
      ],
      "execution_count": 0,
      "outputs": []
    },
    {
      "cell_type": "code",
      "metadata": {
        "id": "NDHTkxA-BugR",
        "colab_type": "code",
        "outputId": "9bd68122-9fbe-4a28-b2f4-d13fa20d77c1",
        "colab": {
          "base_uri": "https://localhost:8080/",
          "height": 1781
        }
      },
      "source": [
        "model.fit(train_x.reshape(-1,972,40,1), train_y,\n",
        "          batch_size=200,\n",
        "          epochs=100,\n",
        "          verbose=1,\n",
        "          validation_data=(cv_x.reshape(-1,972,40,1),cv_y)\n",
        "         )\n",
        "          "
      ],
      "execution_count": 0,
      "outputs": [
        {
          "output_type": "stream",
          "text": [
            "Train on 8000 samples, validate on 2000 samples\n",
            "Epoch 1/100\n",
            "8000/8000 [==============================] - 36s 5ms/step - loss: 1.2153 - acc: 0.6370 - val_loss: 1.0540 - val_acc: 0.6875\n",
            "Epoch 2/100\n",
            "8000/8000 [==============================] - 33s 4ms/step - loss: 0.9406 - acc: 0.7566 - val_loss: 0.9862 - val_acc: 0.7245\n",
            "Epoch 3/100\n",
            "8000/8000 [==============================] - 33s 4ms/step - loss: 0.8393 - acc: 0.8010 - val_loss: 0.9175 - val_acc: 0.7585\n",
            "Epoch 4/100\n",
            "8000/8000 [==============================] - 33s 4ms/step - loss: 0.7655 - acc: 0.8324 - val_loss: 0.8929 - val_acc: 0.7710\n",
            "Epoch 5/100\n",
            "8000/8000 [==============================] - 33s 4ms/step - loss: 0.7015 - acc: 0.8561 - val_loss: 0.8501 - val_acc: 0.7775\n",
            "Epoch 6/100\n",
            "8000/8000 [==============================] - 33s 4ms/step - loss: 0.6411 - acc: 0.8823 - val_loss: 0.8519 - val_acc: 0.7855\n",
            "Epoch 7/100\n",
            "8000/8000 [==============================] - 33s 4ms/step - loss: 0.5639 - acc: 0.9125 - val_loss: 0.8379 - val_acc: 0.7895\n",
            "Epoch 8/100\n",
            "8000/8000 [==============================] - 33s 4ms/step - loss: 0.5102 - acc: 0.9348 - val_loss: 0.8066 - val_acc: 0.8080\n",
            "Epoch 9/100\n",
            "8000/8000 [==============================] - 33s 4ms/step - loss: 0.4728 - acc: 0.9512 - val_loss: 0.8244 - val_acc: 0.8070\n",
            "Epoch 10/100\n",
            "8000/8000 [==============================] - 33s 4ms/step - loss: 0.4285 - acc: 0.9651 - val_loss: 0.7943 - val_acc: 0.8165\n",
            "Epoch 11/100\n",
            "8000/8000 [==============================] - 33s 4ms/step - loss: 0.3855 - acc: 0.9821 - val_loss: 0.7472 - val_acc: 0.8420\n",
            "Epoch 12/100\n",
            "8000/8000 [==============================] - 33s 4ms/step - loss: 0.3587 - acc: 0.9905 - val_loss: 0.7843 - val_acc: 0.8385\n",
            "Epoch 13/100\n",
            "8000/8000 [==============================] - 33s 4ms/step - loss: 0.3392 - acc: 0.9951 - val_loss: 0.7691 - val_acc: 0.8415\n",
            "Epoch 14/100\n",
            "8000/8000 [==============================] - 33s 4ms/step - loss: 0.3242 - acc: 0.9974 - val_loss: 0.7652 - val_acc: 0.8480\n",
            "Epoch 15/100\n",
            "8000/8000 [==============================] - 33s 4ms/step - loss: 0.3129 - acc: 0.9993 - val_loss: 0.7828 - val_acc: 0.8570\n",
            "Epoch 16/100\n",
            "8000/8000 [==============================] - 33s 4ms/step - loss: 0.3046 - acc: 0.9998 - val_loss: 0.7974 - val_acc: 0.8495\n",
            "Epoch 17/100\n",
            "8000/8000 [==============================] - 33s 4ms/step - loss: 0.2974 - acc: 0.9999 - val_loss: 0.7455 - val_acc: 0.8595\n",
            "Epoch 18/100\n",
            "8000/8000 [==============================] - 33s 4ms/step - loss: 0.2936 - acc: 1.0000 - val_loss: 0.7892 - val_acc: 0.8585\n",
            "Epoch 19/100\n",
            "8000/8000 [==============================] - 33s 4ms/step - loss: 0.2910 - acc: 1.0000 - val_loss: 0.7744 - val_acc: 0.8620\n",
            "Epoch 20/100\n",
            "8000/8000 [==============================] - 33s 4ms/step - loss: 0.2893 - acc: 1.0000 - val_loss: 0.7786 - val_acc: 0.8635\n",
            "Epoch 21/100\n",
            "8000/8000 [==============================] - 33s 4ms/step - loss: 0.2874 - acc: 1.0000 - val_loss: 0.7956 - val_acc: 0.8595\n",
            "Epoch 22/100\n",
            "8000/8000 [==============================] - 33s 4ms/step - loss: 0.2857 - acc: 1.0000 - val_loss: 0.7888 - val_acc: 0.8590\n",
            "Epoch 23/100\n",
            "8000/8000 [==============================] - 33s 4ms/step - loss: 0.2843 - acc: 1.0000 - val_loss: 0.8030 - val_acc: 0.8675\n",
            "Epoch 24/100\n",
            "8000/8000 [==============================] - 33s 4ms/step - loss: 0.2828 - acc: 1.0000 - val_loss: 0.8102 - val_acc: 0.8610\n",
            "Epoch 25/100\n",
            "8000/8000 [==============================] - 33s 4ms/step - loss: 0.2815 - acc: 1.0000 - val_loss: 0.8269 - val_acc: 0.8695\n",
            "Epoch 26/100\n",
            "8000/8000 [==============================] - 33s 4ms/step - loss: 0.2802 - acc: 1.0000 - val_loss: 0.8196 - val_acc: 0.8630\n",
            "Epoch 27/100\n",
            "8000/8000 [==============================] - 33s 4ms/step - loss: 0.2790 - acc: 1.0000 - val_loss: 0.8263 - val_acc: 0.8645\n",
            "Epoch 28/100\n",
            "8000/8000 [==============================] - 33s 4ms/step - loss: 0.2776 - acc: 1.0000 - val_loss: 0.8440 - val_acc: 0.8610\n",
            "Epoch 29/100\n",
            "8000/8000 [==============================] - 33s 4ms/step - loss: 0.2763 - acc: 1.0000 - val_loss: 0.8366 - val_acc: 0.8625\n",
            "Epoch 30/100\n",
            "8000/8000 [==============================] - 33s 4ms/step - loss: 0.2751 - acc: 1.0000 - val_loss: 0.8581 - val_acc: 0.8645\n",
            "Epoch 31/100\n",
            "8000/8000 [==============================] - 33s 4ms/step - loss: 0.2738 - acc: 1.0000 - val_loss: 0.8571 - val_acc: 0.8630\n",
            "Epoch 32/100\n",
            "8000/8000 [==============================] - 33s 4ms/step - loss: 0.2725 - acc: 1.0000 - val_loss: 0.8522 - val_acc: 0.8635\n",
            "Epoch 33/100\n",
            "8000/8000 [==============================] - 33s 4ms/step - loss: 0.2712 - acc: 1.0000 - val_loss: 0.8654 - val_acc: 0.8620\n",
            "Epoch 34/100\n",
            "8000/8000 [==============================] - 33s 4ms/step - loss: 0.2698 - acc: 1.0000 - val_loss: 0.8767 - val_acc: 0.8620\n",
            "Epoch 35/100\n",
            "8000/8000 [==============================] - 33s 4ms/step - loss: 0.2685 - acc: 1.0000 - val_loss: 0.8819 - val_acc: 0.8635\n",
            "Epoch 36/100\n",
            "8000/8000 [==============================] - 33s 4ms/step - loss: 0.2672 - acc: 1.0000 - val_loss: 0.8753 - val_acc: 0.8625\n",
            "Epoch 37/100\n",
            "8000/8000 [==============================] - 33s 4ms/step - loss: 0.2658 - acc: 1.0000 - val_loss: 0.8800 - val_acc: 0.8620\n",
            "Epoch 38/100\n",
            "8000/8000 [==============================] - 33s 4ms/step - loss: 0.2644 - acc: 1.0000 - val_loss: 0.8827 - val_acc: 0.8635\n",
            "Epoch 39/100\n",
            "8000/8000 [==============================] - 33s 4ms/step - loss: 0.2630 - acc: 1.0000 - val_loss: 0.8855 - val_acc: 0.8640\n",
            "Epoch 40/100\n",
            "8000/8000 [==============================] - 33s 4ms/step - loss: 0.2616 - acc: 1.0000 - val_loss: 0.8929 - val_acc: 0.8620\n",
            "Epoch 41/100\n",
            "8000/8000 [==============================] - 33s 4ms/step - loss: 0.2602 - acc: 1.0000 - val_loss: 0.8919 - val_acc: 0.8615\n",
            "Epoch 42/100\n",
            "8000/8000 [==============================] - 33s 4ms/step - loss: 0.2587 - acc: 1.0000 - val_loss: 0.8879 - val_acc: 0.8625\n",
            "Epoch 43/100\n",
            "8000/8000 [==============================] - 33s 4ms/step - loss: 0.2573 - acc: 1.0000 - val_loss: 0.8996 - val_acc: 0.8630\n",
            "Epoch 44/100\n",
            "8000/8000 [==============================] - 33s 4ms/step - loss: 0.2558 - acc: 1.0000 - val_loss: 0.9007 - val_acc: 0.8590\n",
            "Epoch 45/100\n",
            "8000/8000 [==============================] - 33s 4ms/step - loss: 0.2543 - acc: 1.0000 - val_loss: 0.8999 - val_acc: 0.8620\n",
            "Epoch 46/100\n",
            "8000/8000 [==============================] - 33s 4ms/step - loss: 0.2528 - acc: 1.0000 - val_loss: 0.9140 - val_acc: 0.8630\n",
            "Epoch 47/100\n",
            "8000/8000 [==============================] - 33s 4ms/step - loss: 0.2513 - acc: 1.0000 - val_loss: 0.9377 - val_acc: 0.8545\n",
            "Epoch 48/100\n",
            "8000/8000 [==============================] - 33s 4ms/step - loss: 0.2498 - acc: 1.0000 - val_loss: 0.9231 - val_acc: 0.8635\n",
            "Epoch 49/100\n",
            "8000/8000 [==============================] - 33s 4ms/step - loss: 0.2482 - acc: 1.0000 - val_loss: 0.9116 - val_acc: 0.8610\n",
            "Epoch 50/100\n",
            "8000/8000 [==============================] - 33s 4ms/step - loss: 0.2466 - acc: 1.0000 - val_loss: 0.9346 - val_acc: 0.8610\n",
            "Epoch 51/100\n",
            "8000/8000 [==============================] - 33s 4ms/step - loss: 0.2450 - acc: 1.0000 - val_loss: 0.9359 - val_acc: 0.8635\n",
            "Epoch 52/100\n",
            "3600/8000 [============>.................] - ETA: 16s - loss: 0.2438 - acc: 1.0000"
          ],
          "name": "stdout"
        }
      ]
    },
    {
      "cell_type": "code",
      "metadata": {
        "id": "z5TB06joRjWz",
        "colab_type": "code",
        "colab": {}
      },
      "source": [
        "   # # from keras.models import load_model\n",
        "\n",
        "# # model.save(dirpath + 'my_model.h5')  # creates a HDF5 file 'my_model.h5'\n",
        "# # del model  # deletes the existing model\n",
        "\n",
        "# # # returns a compiled model\n",
        "# # # identical to the previous one\n",
        "# model = load_model('Drive/My Drive/DL project/my_model.h5')"
      ],
      "execution_count": 0,
      "outputs": []
    },
    {
      "cell_type": "code",
      "metadata": {
        "id": "WxwQ2-uGChAj",
        "colab_type": "code",
        "colab": {}
      },
      "source": [
        "y_pred = model.predict(test_x.reshape(-1,972,40,1))\n",
        "accuracy = accuracy_score(test_y.argmax(axis=1), y_pred.argmax(axis=1))\n",
        "matrix = confusion_matrix(test_y.argmax(axis=1), y_pred.argmax(axis=1))"
      ],
      "execution_count": 0,
      "outputs": []
    },
    {
      "cell_type": "code",
      "metadata": {
        "id": "SonH1OlQcDJG",
        "colab_type": "code",
        "colab": {}
      },
      "source": [
        "print(accuracy)\n",
        "print(matrix)"
      ],
      "execution_count": 0,
      "outputs": []
    },
    {
      "cell_type": "code",
      "metadata": {
        "id": "2uE621Q7w_0c",
        "colab_type": "code",
        "colab": {}
      },
      "source": [
        "matrix"
      ],
      "execution_count": 0,
      "outputs": []
    },
    {
      "cell_type": "code",
      "metadata": {
        "id": "Ip1C1f2VS3AO",
        "colab_type": "code",
        "outputId": "67271a72-f525-4d0e-ea07-7a2e0b82e381",
        "colab": {
          "base_uri": "https://localhost:8080/",
          "height": 35
        }
      },
      "source": [
        "np.unique(ty, return_counts=True)"
      ],
      "execution_count": 0,
      "outputs": [
        {
          "output_type": "execute_result",
          "data": {
            "text/plain": [
              "(array([0, 1, 2, 3, 4]), array([1600, 1617, 1603, 1599, 1581]))"
            ]
          },
          "metadata": {
            "tags": []
          },
          "execution_count": 28
        }
      ]
    },
    {
      "cell_type": "code",
      "metadata": {
        "id": "Zjj3eEuETlmY",
        "colab_type": "code",
        "outputId": "7e96ff6e-83ea-4fe6-c43c-bd617fed829f",
        "colab": {
          "base_uri": "https://localhost:8080/",
          "height": 35
        }
      },
      "source": [
        "np.unique(cvy, return_counts=True)\n",
        "  "
      ],
      "execution_count": 0,
      "outputs": [
        {
          "output_type": "execute_result",
          "data": {
            "text/plain": [
              "(array([0, 1, 2, 3, 4]), array([400, 383, 397, 401, 419]))"
            ]
          },
          "metadata": {
            "tags": []
          },
          "execution_count": 29
        }
      ]
    },
    {
      "cell_type": "code",
      "metadata": {
        "id": "bqIldBs6UVuH",
        "colab_type": "code",
        "colab": {}
      },
      "source": [
        ""
      ],
      "execution_count": 0,
      "outputs": []
    }
  ]
}